{
  "cells": [
    {
      "cell_type": "markdown",
      "metadata": {
        "id": "GM-y3qoOSFvZ"
      },
      "source": [
        "# Introduction\n",
        "\n",
        "In this lab assessment you will explore writing more advanced SQL queries aimed at analyzing data on a more granular level. You will be working with 3 different databases throughout the assessment.\n",
        "- planets.db: Contains data pertaining to planets in our solar system\n",
        "- dogs.db: Contains data pertaining to famous fictional dog characters\n",
        "- babe_ruth.db: Contains data pertaining to Babe Ruth's baseball career statistics\n",
        "\n",
        "SQL (Structured Query Language) provides powerful tools for manipulating and analyzing data in relational databases. Four key operations for working with data are filtering, ordering, limiting, and grouping. These operations can be combined in a single query to perform complex data analysis and extraction tasks, allowing for powerful and flexible data manipulation."
      ]
    },
    {
      "cell_type": "markdown",
      "metadata": {
        "id": "3aU9q-t2SYLF"
      },
      "source": [
        "## Learning Objectives\n",
        "\n",
        "* Retrieve a subset of records from a table using a WHERE clause\n",
        "* Filter results using conditional operators\n",
        "* Apply an aggregate function to the result of a query\n",
        "* Order the results of your queries by using ORDER BY (ASC & DESC)\n",
        "* Limit the number of records returned by a query using LIMIT\n",
        "* Use Group BY statements in SQL to apply aggregate functions"
      ]
    },
    {
      "cell_type": "markdown",
      "metadata": {
        "id": "8b4eeTglMaA9"
      },
      "source": [
        "## Part I: Basic Filtering\n",
        "\n",
        "You will begin by looking at the planets data to perform some basic filtering queries.\n",
        "\n",
        "Table Name: planets"
      ]
    },
    {
      "cell_type": "code",
      "execution_count": null,
      "metadata": {
        "id": "OJy8eGZxMaTA"
      },
      "outputs": [],
      "source": [
        "# CodeGrade step0\n",
        "\n",
        "# Run this cell without changes\n",
        "\n",
        "import pandas as pd\n",
        "import sqlite3\n",
        "\n",
        "# Create the connection\n",
        "# Note the connect is 'conn1' since there will be multiple .db used\n",
        "conn1 = sqlite3.connect('planets.db')\n",
        "\n",
        "# Select all\n",
        "pd.read_sql(\"\"\"SELECT * FROM planets; \"\"\", conn1)"
      ]
    },
    {
      "cell_type": "markdown",
      "metadata": {
        "id": "K5BXv5vAOpIR"
      },
      "source": [
        "### Step 1\n",
        "Return all the columns for planets that have 0 moons."
      ]
    },
    {
      "cell_type": "code",
      "execution_count": null,
      "metadata": {},
      "outputs": [],
      "source": [
        "# CodeGrade step1\n",
        "# Replace None with your code\n",
        "df_no_moons = None"
      ]
    },
    {
      "cell_type": "markdown",
      "metadata": {
        "id": "sWqlc1-FO-Qf"
      },
      "source": [
        "### Step 2\n",
        "Return the name and mass of each planet that has a name with exactly 7 letters. Avoid hard coding this filter subset as much as possible."
      ]
    },
    {
      "cell_type": "code",
      "execution_count": null,
      "metadata": {},
      "outputs": [],
      "source": [
        "# CodeGrade step2\n",
        "# Replace None with your code\n",
        "df_name_seven = None"
      ]
    },
    {
      "cell_type": "markdown",
      "metadata": {},
      "source": [
        "## Part 2: Advanced Filtering"
      ]
    },
    {
      "cell_type": "markdown",
      "metadata": {
        "id": "54Us1LpePIsw"
      },
      "source": [
        "### Step 3\n",
        "\n",
        "Return the name and mass for each planet that has a mass that is less than or equal to 1.00."
      ]
    },
    {
      "cell_type": "code",
      "execution_count": null,
      "metadata": {},
      "outputs": [],
      "source": [
        "# CodeGrade step3\n",
        "# Replace None with your code\n",
        "df_mass = None"
      ]
    },
    {
      "cell_type": "markdown",
      "metadata": {
        "id": "ARB64_9SPQhj"
      },
      "source": [
        "### Step 4\n",
        "\n",
        "Return all the columns for planets that have at least one moon and a mass less than 1.00."
      ]
    },
    {
      "cell_type": "code",
      "execution_count": null,
      "metadata": {},
      "outputs": [],
      "source": [
        "# CodeGrade step4\n",
        "# Replace None with your code\n",
        "df_mass_moon = None"
      ]
    },
    {
      "cell_type": "markdown",
      "metadata": {
        "id": "Jj1dzdH7Pq9r"
      },
      "source": [
        "### Step 5\n",
        "\n",
        "Return the name and color of planets that have a color containing the string \"blue\"."
      ]
    },
    {
      "cell_type": "code",
      "execution_count": null,
      "metadata": {},
      "outputs": [],
      "source": [
        "# CodeGrade step5\n",
        "# Replace None with your code\n",
        "df_blue = None"
      ]
    },
    {
      "cell_type": "markdown",
      "metadata": {},
      "source": [
        "## Part 3: Ordering and Limiting"
      ]
    },
    {
      "cell_type": "markdown",
      "metadata": {
        "id": "NKVhoMkLUC0y"
      },
      "source": [
        "This database has some fictional, yet generally famous, dogs.\n",
        "\n",
        "Table Name: dogs"
      ]
    },
    {
      "cell_type": "code",
      "execution_count": null,
      "metadata": {},
      "outputs": [],
      "source": [
        "# CodeGrade step0\n",
        "\n",
        "# Run this cell without changes\n",
        "\n",
        "# Create a connection\n",
        "# Note the connect is 'conn2' since they will be multiple .db used\n",
        "conn2 = sqlite3.connect('dogs.db')\n",
        "\n",
        "# Select all\n",
        "pd.read_sql(\"SELECT * FROM dogs;\", conn2)"
      ]
    },
    {
      "cell_type": "markdown",
      "metadata": {
        "id": "Rw6f4du3VAey"
      },
      "source": [
        "### Step 6\n",
        "Return the name, age, and breed of all dogs that are hungry (binary flag of 1) and sort them from youngest to oldest."
      ]
    },
    {
      "cell_type": "code",
      "execution_count": null,
      "metadata": {},
      "outputs": [],
      "source": [
        "# CodeGrade step6\n",
        "# Replace None with your code\n",
        "df_hungry = None"
      ]
    },
    {
      "cell_type": "markdown",
      "metadata": {
        "id": "kpjQiXVyVN54"
      },
      "source": [
        "### Step 7\n",
        "Return the name, age, and hungry columns for hungry dogs between the ages of two and seven. This query should also sort these dogs in alphabetical order."
      ]
    },
    {
      "cell_type": "code",
      "execution_count": null,
      "metadata": {},
      "outputs": [],
      "source": [
        "# CodeGrade step7\n",
        "# Replace None with your code\n",
        "df_hungry_ages = None"
      ]
    },
    {
      "cell_type": "markdown",
      "metadata": {},
      "source": [
        "### Step 8\n",
        "\n",
        "Return the name, age, and breed for the 4 oldest dogs. Sort the result alphabetically based on the breed."
      ]
    },
    {
      "cell_type": "code",
      "execution_count": null,
      "metadata": {},
      "outputs": [],
      "source": [
        "# CodeGrade step8\n",
        "# Replace None with your code\n",
        "df_4_oldest = None"
      ]
    },
    {
      "cell_type": "markdown",
      "metadata": {
        "id": "45hkMroQVlyW"
      },
      "source": [
        "## Part 4: Aggregation"
      ]
    },
    {
      "cell_type": "markdown",
      "metadata": {
        "id": "boBTRdQRWIpX"
      },
      "source": [
        "In the next few parts, you'll query data from a table populated with Babe Ruth's career hitting statistics. You'll use aggregate functions to pull interesting information from the table that basic queries cannot track.\n",
        "\n",
        "Table Name: babe_ruth_stats"
      ]
    },
    {
      "cell_type": "code",
      "execution_count": null,
      "metadata": {
        "id": "JPiJ17qIWWO2"
      },
      "outputs": [],
      "source": [
        "# CodeGrade step0\n",
        "\n",
        "# Run this cell without changes\n",
        "\n",
        "# Create a connection\n",
        "# Note the connect is 'conn3' since they will be multiple .db used\n",
        "conn3 = sqlite3.connect('babe_ruth.db')\n",
        "\n",
        "# Select all\n",
        "pd.read_sql(\"\"\"\n",
        "SELECT * FROM babe_ruth_stats; \"\"\", conn3)"
      ]
    },
    {
      "cell_type": "markdown",
      "metadata": {
        "id": "bLnbufbdYOGN"
      },
      "source": [
        "### Step 9\n",
        "\n",
        "Return the total number of years that Babe Ruth played professional baseball"
      ]
    },
    {
      "cell_type": "code",
      "execution_count": null,
      "metadata": {},
      "outputs": [],
      "source": [
        "# CodeGrade step9\n",
        "# Replace None with your code\n",
        "df_ruth_years = None\n"
      ]
    },
    {
      "cell_type": "markdown",
      "metadata": {
        "id": "va4f4f88ZFhm"
      },
      "source": [
        "### Step 10\n",
        "\n",
        "Return the total number of homeruns hit by Babe Ruth during his career."
      ]
    },
    {
      "cell_type": "code",
      "execution_count": null,
      "metadata": {},
      "outputs": [],
      "source": [
        "# CodeGrade step10\n",
        "# Replace None with your code\n",
        "df_hr_total = None"
      ]
    },
    {
      "cell_type": "markdown",
      "metadata": {},
      "source": [
        "## Part 5: Grouping and Aggregation"
      ]
    },
    {
      "cell_type": "markdown",
      "metadata": {},
      "source": [
        "### Step 11\n",
        "\n",
        "For each team that Babe Ruth has played on, return the team name and the number of years he played on that team, aliased as 'number_years'."
      ]
    },
    {
      "cell_type": "code",
      "execution_count": null,
      "metadata": {},
      "outputs": [],
      "source": [
        "# CodeGrade step11\n",
        "# Replace None with your code\n",
        "df_teams_years = None"
      ]
    },
    {
      "cell_type": "markdown",
      "metadata": {
        "id": "LPodzU0qa9uR"
      },
      "source": [
        "### Step 12\n",
        "\n",
        "For each team that Babe Ruth played on and averged over 200 at bats with, return the team name and average number of at bats, aliased as 'average_at_bats'."
      ]
    },
    {
      "cell_type": "code",
      "execution_count": null,
      "metadata": {},
      "outputs": [],
      "source": [
        "# CodeGrade step12\n",
        "# Replace None with your code\n",
        "df_at_bats = None"
      ]
    },
    {
      "cell_type": "markdown",
      "metadata": {
        "id": "VrEm7khwVWQp"
      },
      "source": [
        "#### Close the connections"
      ]
    },
    {
      "cell_type": "code",
      "execution_count": null,
      "metadata": {
        "id": "BLLCbsH4VY4f"
      },
      "outputs": [],
      "source": [
        "# Run this cell without changes\n",
        "\n",
        "conn1.close()\n",
        "conn2.close()\n",
        "conn3.close()"
      ]
    }
  ],
  "metadata": {
    "colab": {
      "provenance": []
    },
    "kernelspec": {
      "display_name": "Python 3",
      "name": "python3"
    },
    "language_info": {
      "codemirror_mode": {
        "name": "ipython",
        "version": 3
      },
      "file_extension": ".py",
      "mimetype": "text/x-python",
      "name": "python",
      "nbconvert_exporter": "python",
      "pygments_lexer": "ipython3",
      "version": "3.12.4"
    }
  },
  "nbformat": 4,
  "nbformat_minor": 0
}
